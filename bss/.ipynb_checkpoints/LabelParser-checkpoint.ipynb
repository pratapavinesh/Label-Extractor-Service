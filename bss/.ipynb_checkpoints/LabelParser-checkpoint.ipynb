{
 "cells": [
  {
   "cell_type": "code",
   "execution_count": 8,
   "id": "5fc2723d-c19b-4ce5-815e-494d6063efbd",
   "metadata": {},
   "outputs": [],
   "source": [
    "%%capture\n",
    "!pip install opencv-python\n",
    "import cv2\n",
    "import numpy as np\n",
    "from pathlib import Path\n",
    "import matplotlib.pyplot as plt"
   ]
  },
  {
   "cell_type": "code",
   "execution_count": 9,
   "id": "48ba3801-c307-412e-9b26-3ab96bab3de3",
   "metadata": {},
   "outputs": [],
   "source": [
    "# Function to convert video to frames\n",
    "def video_to_frames(video_path, frames_folder,m=20):\n",
    "    # Create a VideoCapture object\n",
    "    cap = cv2.VideoCapture(video_path)\n",
    "    \n",
    "    # Check if video opened successfully\n",
    "    if not cap.isOpened():\n",
    "        print(\"Error: Could not open video.\")\n",
    "        return\n",
    "    \n",
    "    # Read until video is completed\n",
    "    frame_count = 0\n",
    "    while cap.isOpened():\n",
    "        # Capture frame-by-frame\n",
    "        ret, frame = cap.read()\n",
    "        if ret:\n",
    "            # Save frame as JPEG file\n",
    "            frame_path = Path(frames_folder) / f\"frame_{frame_count}.jpg\"\n",
    "            frame_count += 1\n",
    "            if frame_count%m==0:\n",
    "                cv2.imwrite(str(frame_path), frame)\n",
    "        else:\n",
    "            break\n",
    "    \n",
    "    # When everything done, release the video capture object\n",
    "    cap.release()\n",
    "    print(f\"Video has been split into {frame_count} frames.\")"
   ]
  },
  {
   "cell_type": "code",
   "execution_count": 10,
   "id": "c73bb0dd-f9e9-4b27-9d48-c9c11101c8a4",
   "metadata": {},
   "outputs": [],
   "source": [
    "# Function to discard unclear frames\n",
    "def discard_unclear_frames(frames_folder, clarity_threshold):\n",
    "    frames_path = Path(frames_folder)\n",
    "    clear_frames = []\n",
    "    \n",
    "    for frame_path in frames_path.glob(\"*.jpg\"):\n",
    "        frame = cv2.imread(str(frame_path))\n",
    "        # Calculate the Laplacian variance (focus measure)\n",
    "        variance = cv2.Laplacian(frame, cv2.CV_64F).var()\n",
    "        if variance > clarity_threshold:\n",
    "            clear_frames.append(frame)\n",
    "        else:\n",
    "            frame_path.unlink()  # Delete unclear frame\n",
    "    \n",
    "    print(f\"{len(clear_frames)} clear frames have been kept for stitching.\")"
   ]
  },
  {
   "cell_type": "code",
   "execution_count": 11,
   "id": "a5049699-169c-4838-a992-83868e0339bc",
   "metadata": {},
   "outputs": [],
   "source": [
    "# Function to stitch frames together\n",
    "def stitch_frames(frames, output_path):\n",
    "    # Create a stitcher object\n",
    "    stitcher = cv2.Stitcher_create()\n",
    "    \n",
    "    # Perform the stitching process\n",
    "    status, stitched_image = stitcher.stitch(frames)\n",
    "    \n",
    "    # Check if the stitching is successful\n",
    "    if status == cv2.Stitcher_OK:\n",
    "        # Save the stitched image\n",
    "        cv2.imwrite(output_path, stitched_image)\n",
    "        print(\"Frames have been successfully stitched together.\")\n",
    "        stitched_image = cv2.imread(output_path)\n",
    "        plt.imshow(cv2.cvtColor(stitched_image, cv2.COLOR_BGR2RGB))\n",
    "        plt.title('Stitched Image')\n",
    "        plt.axis('off')\n",
    "        plt.show()\n",
    "    else:\n",
    "        print(\"Frames could not be stitched together. Error code: \" + str(status))\n",
    "    "
   ]
  },
  {
   "cell_type": "code",
   "execution_count": null,
   "id": "4a741ad2-1ad2-4901-9114-980283af2192",
   "metadata": {},
   "outputs": [
    {
     "name": "stdout",
     "output_type": "stream",
     "text": [
      "Video has been split into 734 frames.\n",
      "124 clear frames have been kept for stitching.\n"
     ]
    }
   ],
   "source": [
    "video_path = 'bss/videos/bottle2.mp4'\n",
    "frames_folder = 'bss/images'\n",
    "clarity_threshold = 100  # Example threshold value for clarity\n",
    "\n",
    "# Convert video to frames\n",
    "video_to_frames(video_path, frames_folder)\n",
    "\n",
    "# Discard unclear frames\n",
    "discard_unclear_frames(frames_folder, clarity_threshold)\n",
    "\n",
    "# Load clear frames\n",
    "clear_frames = [cv2.imread(str(frame_path)) for frame_path in Path(frames_folder).glob(\"*.jpg\")]\n",
    "\n",
    "# Stitch frames together\n",
    "stitch_frames(selected_frames, 'bss/images/stitched_image.jpg')"
   ]
  },
  {
   "cell_type": "code",
   "execution_count": null,
   "id": "32ccdc46-c322-485f-bbd3-d87486940262",
   "metadata": {},
   "outputs": [],
   "source": []
  }
 ],
 "metadata": {
  "kernelspec": {
   "display_name": "Python 3 (ipykernel)",
   "language": "python",
   "name": "python3"
  },
  "language_info": {
   "codemirror_mode": {
    "name": "ipython",
    "version": 3
   },
   "file_extension": ".py",
   "mimetype": "text/x-python",
   "name": "python",
   "nbconvert_exporter": "python",
   "pygments_lexer": "ipython3",
   "version": "3.11.5"
  }
 },
 "nbformat": 4,
 "nbformat_minor": 5
}
