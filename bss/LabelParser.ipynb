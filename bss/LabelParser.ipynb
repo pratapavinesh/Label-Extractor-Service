{
 "cells": [
  {
   "cell_type": "code",
   "execution_count": 1,
   "id": "5fc2723d-c19b-4ce5-815e-494d6063efbd",
   "metadata": {},
   "outputs": [],
   "source": [
    "%%capture\n",
    "!pip install opencv-python\n",
    "import cv2\n",
    "import numpy as np\n",
    "from pathlib import Path\n",
    "import matplotlib.pyplot as plt"
   ]
  },
  {
   "cell_type": "code",
   "execution_count": 2,
   "id": "48ba3801-c307-412e-9b26-3ab96bab3de3",
   "metadata": {},
   "outputs": [],
   "source": [
    "# Function to convert video to frames\n",
    "def video_to_frames(video_path, frames_folder,m=30):\n",
    "    # Create a VideoCapture object\n",
    "    cap = cv2.VideoCapture(video_path)\n",
    "    \n",
    "    # Check if video opened successfully\n",
    "    if not cap.isOpened():\n",
    "        print(\"Error: Could not open video.\")\n",
    "        return\n",
    "    \n",
    "    # Read until video is completed\n",
    "    frame_count = 0\n",
    "    kept_count=0\n",
    "    while cap.isOpened():\n",
    "        # Capture frame-by-frame\n",
    "        ret, frame = cap.read()\n",
    "        if ret:\n",
    "            # Save frame as JPEG file\n",
    "            frame_count += 1\n",
    "            if frame_count%m==0:\n",
    "                frame_path = Path(frames_folder) / f\"frame_{frame_count}.jpg\"\n",
    "                kept_count+=1\n",
    "                cv2.imwrite(str(frame_path), frame)\n",
    "        else:\n",
    "            break\n",
    "    \n",
    "    # When everything done, release the video capture object\n",
    "    cap.release()\n",
    "    print(f\"Video has been split into {frame_count} frames.\")\n",
    "    print(f\"number of frame we will use {kept_count} frames.\")"
   ]
  },
  {
   "cell_type": "code",
   "execution_count": 3,
   "id": "c73bb0dd-f9e9-4b27-9d48-c9c11101c8a4",
   "metadata": {},
   "outputs": [],
   "source": [
    "# Function to discard unclear frames\n",
    "def discard_unclear_frames(frames_folder, clarity_threshold):\n",
    "    frames_path = Path(frames_folder)\n",
    "    clear_frames = []\n",
    "    \n",
    "    for frame_path in frames_path.glob(\"*.jpg\"):\n",
    "        frame = cv2.imread(str(frame_path))\n",
    "        # Calculate the Laplacian variance (focus measure)\n",
    "        variance = cv2.Laplacian(frame, cv2.CV_64F).var()\n",
    "        if variance > clarity_threshold:\n",
    "            clear_frames.append(frame)\n",
    "        else:\n",
    "            frame_path.unlink()  # Delete unclear frame\n",
    "    \n",
    "    print(f\"{len(clear_frames)} clear frames have been kept for stitching.\")"
   ]
  },
  {
   "cell_type": "code",
   "execution_count": 4,
   "id": "a5049699-169c-4838-a992-83868e0339bc",
   "metadata": {},
   "outputs": [],
   "source": [
    "# Function to stitch frames together\n",
    "def stitch_frames(frames, output_path):\n",
    "    # Create a stitcher object\n",
    "    stitcher = cv2.Stitcher_create()\n",
    "    \n",
    "    # Perform the stitching process\n",
    "    status, stitched_image = stitcher.stitch(frames)\n",
    "    \n",
    "    # Check if the stitching is successful\n",
    "    if status == cv2.Stitcher_OK:\n",
    "        # Save the stitched image\n",
    "        cv2.imwrite(output_path, stitched_image)\n",
    "        print(\"Frames have been successfully stitched together.\")\n",
    "        stitched_image = cv2.imread(output_path)\n",
    "        plt.imshow(cv2.cvtColor(stitched_image, cv2.COLOR_BGR2RGB))\n",
    "        plt.title('Stitched Image')\n",
    "        plt.axis('off')\n",
    "        plt.show()\n",
    "    else:\n",
    "        print(\"Frames could not be stitched together. Error code: \" + str(status))\n",
    "    "
   ]
  },
  {
   "cell_type": "code",
   "execution_count": 5,
   "id": "4222c849-b62a-41cd-aed1-168af95f83ae",
   "metadata": {},
   "outputs": [],
   "source": [
    "def clear_frames_directory(frames_folder):\n",
    "    # Get the folder path\n",
    "    folder_path = Path(frames_folder)\n",
    "    \n",
    "    # Check if the folder exists\n",
    "    if folder_path.exists() and folder_path.is_dir():\n",
    "        # Delete all files in the folder except .ipynb_checkpoints\n",
    "        for file_path in folder_path.glob('*'):\n",
    "            if not file_path.name.startswith('.ipynb_checkpoints'):\n",
    "                file_path.unlink()\n",
    "    else:\n",
    "        print(\"Error: Frames folder does not exist.\")"
   ]
  },
  {
   "cell_type": "code",
   "execution_count": 6,
   "id": "4a741ad2-1ad2-4901-9114-980283af2192",
   "metadata": {},
   "outputs": [
    {
     "name": "stdout",
     "output_type": "stream",
     "text": [
      "Error: Frames folder does not exist.\n",
      "Error: Could not open video.\n",
      "0 clear frames have been kept for stitching.\n",
      "Frames could not be stitched together. Error code: 1\n"
     ]
    }
   ],
   "source": [
    "video_path = 'bss/videos/bottle2.mp4'\n",
    "frames_folder = 'bss/images'\n",
    "clarity_threshold = 100  # Example threshold value for clarity\n",
    "\n",
    "clear_frames_directory(frames_folder)\n",
    "\n",
    "# Convert video to frames\n",
    "video_to_frames(video_path, frames_folder,m=5)\n",
    "\n",
    "# Discard unclear frames\n",
    "discard_unclear_frames(frames_folder, clarity_threshold)\n",
    "\n",
    "# Load clear frames\n",
    "clear_frames = [cv2.imread(str(frame_path)) for frame_path in Path(frames_folder).glob(\"*.jpg\")]\n",
    "\n",
    "# Stitch frames together\n",
    "stitch_frames(clear_frames, 'bss/images/stitched_image.jpg')"
   ]
  },
  {
   "cell_type": "code",
   "execution_count": 21,
   "id": "32ccdc46-c322-485f-bbd3-d87486940262",
   "metadata": {},
   "outputs": [],
   "source": [
    "import cv2\n",
    "import numpy as np\n",
    "\n",
    "def detect_keypoints(image_path):\n",
    "    # Load the image\n",
    "    image = cv2.imread(image_path)\n",
    "    gray = cv2.cvtColor(image, cv2.COLOR_BGR2GRAY)\n",
    "    cv2.imshow('Gray', gray)\n",
    "    \n",
    "    # Step 1: Apply Gaussian Blur\n",
    "    blurred = cv2.GaussianBlur(gray, (19, 19), 0)\n",
    "\n",
    "    cv2.imshow('Gray', blurred)\n",
    "    # Step 2: Canny Edge Detection\n",
    "    edges = cv2.Canny(blurred, 50, 150)\n",
    "\n",
    "    cv2.imshow('Gray', edges)\n",
    "    \n",
    "    # Step 3: Hough Line Transform to find vertical lines\n",
    "    lines = cv2.HoughLinesP(edges, 1, np.pi / 180, threshold=100, minLineLength=100, maxLineGap=10)\n",
    "    for line in lines:\n",
    "        for x1, y1, x2, y2 in line:\n",
    "            cv2.line(image, (x1, y1), (x2, y2), (0, 255, 0), 2)\n",
    "\n",
    "    # Assuming the image might need rotation to make lines vertical\n",
    "    # Rotate image if necessary (not implemented here)\n",
    "\n",
    "    # Step 4: Hough Transform for Ellipses (OpenCV does not directly support ellipse detection via Hough Transform, this is a simplification)\n",
    "    circles = cv2.HoughCircles(blurred, cv2.HOUGH_GRADIENT, 1, 20, param1=50, param2=30, minRadius=0, maxRadius=0)\n",
    "    if circles is not None:\n",
    "        circles = np.round(circles[0, :]).astype(\"int\")\n",
    "        for (x, y, r) in circles:\n",
    "            cv2.circle(image, (x, y), r, (255, 0, 0), 4)\n",
    "\n",
    "    # Display the result\n",
    "    cv2.imshow('Detected Key Points', image)\n",
    "    cv2.waitKey(0)\n",
    "    cv2.destroyAllWindows()\n",
    "\n",
    "# Example usage\n",
    "detect_keypoints('images/Screenshot 2024-04-23 122236.png')"
   ]
  },
  {
   "cell_type": "code",
   "execution_count": null,
   "id": "06a5dbf8-3f6e-47b3-845d-d7df63dcb27a",
   "metadata": {},
   "outputs": [],
   "source": []
  }
 ],
 "metadata": {
  "kernelspec": {
   "display_name": "Python 3 (ipykernel)",
   "language": "python",
   "name": "python3"
  },
  "language_info": {
   "codemirror_mode": {
    "name": "ipython",
    "version": 3
   },
   "file_extension": ".py",
   "mimetype": "text/x-python",
   "name": "python",
   "nbconvert_exporter": "python",
   "pygments_lexer": "ipython3",
   "version": "3.11.5"
  }
 },
 "nbformat": 4,
 "nbformat_minor": 5
}
